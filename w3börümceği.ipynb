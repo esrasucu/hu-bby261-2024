{
  "nbformat": 4,
  "nbformat_minor": 0,
  "metadata": {
    "colab": {
      "provenance": [],
      "authorship_tag": "ABX9TyNto6Anm4xiYWOJUPTRHShN",
      "include_colab_link": true
    },
    "kernelspec": {
      "name": "python3",
      "display_name": "Python 3"
    },
    "language_info": {
      "name": "python"
    }
  },
  "cells": [
    {
      "cell_type": "markdown",
      "metadata": {
        "id": "view-in-github",
        "colab_type": "text"
      },
      "source": [
        "<a href=\"https://colab.research.google.com/github/esrasucu/hu-bby261-2024/blob/main/w3b%C3%B6r%C3%BCmce%C4%9Fi.ipynb\" target=\"_parent\"><img src=\"https://colab.research.google.com/assets/colab-badge.svg\" alt=\"Open In Colab\"/></a>"
      ]
    },
    {
      "cell_type": "code",
      "execution_count": null,
      "metadata": {
        "id": "eYI7R458JlLX"
      },
      "outputs": [],
      "source": [
        "#uygulamada kullanılacak kütüphaneler\n",
        "import ipywidgets as arayuz\n",
        "import requests  as  getir\n",
        "from bs4 import  BeautifilSoup as analiz"
      ]
    },
    {
      "cell_type": "code",
      "source": [
        "# @title\n",
        "# veri toplama araçları\n",
        "\n",
        "# uygulama başlık\n",
        "baslik = arayuz.HTML(value=\"::: Web Örümceği :::\")\n",
        "display(baslik)"
      ],
      "metadata": {
        "id": "RI2djmadUV-K"
      },
      "execution_count": null,
      "outputs": []
    },
    {
      "cell_type": "code",
      "source": [
        "# uygulama ara başlık\n",
        "araBaslik = arayuz.HTML(value=\"Tarama verisi oluştur:\")\n",
        "display(araBaslik)"
      ],
      "metadata": {
        "id": "NaDXpKC_WAyx"
      },
      "execution_count": null,
      "outputs": []
    },
    {
      "cell_type": "code",
      "source": [
        "# sonuçlar ara başlık\n",
        "araSonuc= arayuz.HTML(value=\"Tarama sonuçları:\")"
      ],
      "metadata": {
        "id": "IW3dZQPgWwap"
      },
      "execution_count": null,
      "outputs": []
    },
    {
      "cell_type": "code",
      "source": [
        "# uygulama açıklama\n",
        "aciklama = arayuz.HTML(value= \"Web taraması için başlangıç adresi olarak belirlemek istediğiniz URL'yi giriniz.Tarama seviyesini istediğiniz bir değere veriniz ve taramyı başlat düğmesine tıklayınız.\")\n",
        "display(aciklama)\n",
        "\n",
        "#tarama başlangıç adresi\n",
        "url = arayuz.Text(value=\"https://\", description=\"\")\n",
        "display(url)\n",
        "\n",
        "#tarama için seviye belirleyici\n",
        "level = arayuz.Intslider(min=1, max=5, step=1, value=2)\n",
        "display(level)\n",
        "\n",
        "#tarama işlemine başlanılması için buton\n",
        "buton=arayuz.Button(description=\"Taramayı başlat\")\n",
        "display(buton)\n",
        "#arayüzde kullanılan ayiricilar\n",
        "ayirici= arayuz.HTML(value=\"\")\n",
        "display(ayirici)\n",
        "\n",
        "def taramaBasla(b):\n",
        "\n",
        "    #Tarama verisi topla ve göster\n",
        "    adres = url.value\n",
        "    print(\"Başlangıç adresi: \" + adres)\n",
        "    seviye = level.value\n",
        "    print(\"Tarama seviyesi: \" + str(seviye))\n",
        "    display(ayirici)\n",
        "\n",
        "    #Tarama verisini getir\n",
        "    response = getir.get(adres)\n",
        "    html = response.content\n",
        "    print(html)\n",
        "    display(ayirici)\n",
        "\n",
        "    # BeautifulSoup nesnesi oluştur\n",
        "    soup = analiz(html, \"html.parser\")\n",
        "\n",
        "    # Başlığı bul ve yazdır\n",
        "    sayfaBaslik = soup.find(\"title\").text\n",
        "    display(araSonuc)\n",
        "    print(adres, \" - \", sayfaBaslik)\n",
        "    display(ayirici)\n",
        "\n",
        "    # Sayfadaki tüm bağlantıları bul\n",
        "    linkler = soup.find_all(\"a\")\n",
        "    for link in linkler:\n",
        "      print(\"Bağlantı:\", link.get(\"href\"))\n",
        "\n",
        "\n",
        "buton.on_click(taramaBasla)\n",
        "\n"
      ],
      "metadata": {
        "id": "-NTdU-AEXSyh"
      },
      "execution_count": null,
      "outputs": []
    }
  ]
}